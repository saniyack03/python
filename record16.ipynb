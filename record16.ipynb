{
 "cells": [
  {
   "cell_type": "code",
   "execution_count": null,
   "id": "74bd5c88",
   "metadata": {},
   "outputs": [
    {
     "name": "stdout",
     "output_type": "stream",
     "text": [
      "enter the account number:1001\n",
      "enter name:saniya\n",
      "enter type of account:savings\n",
      "enter the balance amount:12000000\n",
      "1. deposit \n",
      " 2. withdrew \n",
      " 3. account info \n",
      " 4. exit \n",
      " CHOOSE YOUR OPTION:3\n",
      "Account number: 1001\n",
      "Account holder name: saniya\n",
      "Account type: savings\n",
      "Account balance: 12000000\n",
      "1. deposit \n",
      " 2. withdrew \n",
      " 3. account info \n",
      " 4. exit \n",
      " CHOOSE YOUR OPTION:2\n",
      "Withdraw amount:4450000000000\n",
      "Initaial balance: 12000000\n",
      "you dont have enough money\n",
      "current balance: 12000000\n"
     ]
    }
   ],
   "source": [
    "class bank:\n",
    "    def __init__(self,accno,name,acc_type,balance):\n",
    "        self.accno=accno\n",
    "        self.name=name\n",
    "        self.acc_type=acc_type\n",
    "        self.balance=balance\n",
    "        \n",
    "    def deposit(self,amount):\n",
    "        self.balance+=amount\n",
    "        print(\"deposited amount:\",amount)\n",
    "        print(\"current balance:\",self.balance)\n",
    "        \n",
    "    def withdraw(self):\n",
    "        self.am=int(input(\"Withdraw amount:\"))\n",
    "        print(\"Initaial balance:\",self.balance)\n",
    "        if self.am>self.balance:\n",
    "            print(\"you dont have enough money\")\n",
    "            print(\"current balance:\",self.balance)\n",
    "        else:\n",
    "            print(\"withdraw amount:\",self.am)\n",
    "            self.balance-=self.am\n",
    "            print(\"current balance:\",self.balance)\n",
    " \n",
    "    def acc_info(self):\n",
    "        print(\"Account number:\",self.accno)\n",
    "        print(\"Account holder name:\",self.name)\n",
    "        print(\"Account type:\",self.acc_type)\n",
    "        print(\"Account balance:\",self.balance)\n",
    "\n",
    "accno=int(input(\"enter the account number:\"))\n",
    "name=input(\"enter name:\")\n",
    "acc_type=input(\"enter type of account:\")\n",
    "balance=int(input(\"enter the balance amount:\"))\n",
    "\n",
    "holder=bank(accno,name,acc_type,balance)\n",
    "\n",
    "while(1):\n",
    "    ch=int(input(\"1. deposit \\n 2. withdrew \\n 3. account info \\n 4. exit \\n CHOOSE YOUR OPTION:\"))\n",
    "    if ch==1:\n",
    "        damount=int(input(\"deposit amount:\"))\n",
    "        holder.deposit(damount)\n",
    "    elif ch==2:\n",
    "        holder.withdraw()\n",
    "    elif ch==3:\n",
    "        holder.acc_info()\n",
    "    else:\n",
    "        print(\"exiting\")\n",
    "        break\n",
    "\n"
   ]
  },
  {
   "cell_type": "code",
   "execution_count": null,
   "id": "b2c0bad7",
   "metadata": {},
   "outputs": [],
   "source": []
  },
  {
   "cell_type": "code",
   "execution_count": null,
   "id": "84816885",
   "metadata": {},
   "outputs": [],
   "source": []
  }
 ],
 "metadata": {
  "kernelspec": {
   "display_name": "Python 3 (ipykernel)",
   "language": "python",
   "name": "python3"
  },
  "language_info": {
   "codemirror_mode": {
    "name": "ipython",
    "version": 3
   },
   "file_extension": ".py",
   "mimetype": "text/x-python",
   "name": "python",
   "nbconvert_exporter": "python",
   "pygments_lexer": "ipython3",
   "version": "3.11.4"
  }
 },
 "nbformat": 4,
 "nbformat_minor": 5
}
