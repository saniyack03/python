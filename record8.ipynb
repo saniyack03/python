{
 "cells": [
  {
   "cell_type": "code",
   "execution_count": 2,
   "id": "27854b25",
   "metadata": {},
   "outputs": [
    {
     "name": "stdout",
     "output_type": "stream",
     "text": [
      "enter colors of set 1 separated by spaces:red yellow blue black\n",
      "color set 1 is: {'yellow', 'blue', 'red', 'black'}\n",
      "enter colors of set 2 separated by spaces:red green  blue violet\n",
      "color set 2 is: {'blue', 'green', 'violet', 'red'}\n",
      "colors in set1 not contained in set 2: {'yellow', 'black'}\n"
     ]
    }
   ],
   "source": [
    "#python prgrom to print colors from set1 not contained in color set 2\n",
    "color_set1=set(input(\"enter colors of set 1 separated by spaces:\").split())\n",
    "print(\"color set 1 is:\",color_set1)\n",
    "color_set2=set(input(\"enter colors of set 2 separated by spaces:\").split())\n",
    "print(\"color set 2 is:\",color_set2)\n",
    "difference=color_set1-color_set2\n",
    "print(\"colors in set1 not contained in set 2:\",difference)\n"
   ]
  },
  {
   "cell_type": "code",
   "execution_count": 4,
   "id": "18cd758e",
   "metadata": {},
   "outputs": [
    {
     "name": "stdout",
     "output_type": "stream",
     "text": [
      "enter colors of set 1 separated by spaces:yellow red blue\n",
      "color set 1 is: {'yellow', 'blue', 'red'}\n",
      "enter colors of set 2 separated by spaces:black green red\n",
      "color set 2 is: {'green', 'red', 'black'}\n",
      "all colors from set1 and set2: {'blue', 'green', 'black', 'yellow', 'red'}\n"
     ]
    }
   ],
   "source": [
    "#print all colors\n",
    "color_set1=set(input(\"enter colors of set 1 separated by spaces:\").split())\n",
    "print(\"color set 1 is:\",color_set1)\n",
    "color_set2=set(input(\"enter colors of set 2 separated by spaces:\").split())\n",
    "print(\"color set 2 is:\",color_set2)\n",
    "union=color_set1 | color_set2\n",
    "print(\"all colors from set1 and set2:\",union)"
   ]
  },
  {
   "cell_type": "code",
   "execution_count": null,
   "id": "ed595298",
   "metadata": {},
   "outputs": [],
   "source": []
  }
 ],
 "metadata": {
  "kernelspec": {
   "display_name": "Python 3 (ipykernel)",
   "language": "python",
   "name": "python3"
  },
  "language_info": {
   "codemirror_mode": {
    "name": "ipython",
    "version": 3
   },
   "file_extension": ".py",
   "mimetype": "text/x-python",
   "name": "python",
   "nbconvert_exporter": "python",
   "pygments_lexer": "ipython3",
   "version": "3.11.4"
  }
 },
 "nbformat": 4,
 "nbformat_minor": 5
}
