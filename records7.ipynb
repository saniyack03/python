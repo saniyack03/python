{
 "cells": [
  {
   "cell_type": "code",
   "execution_count": 1,
   "id": "23a87091",
   "metadata": {},
   "outputs": [
    {
     "name": "stdout",
     "output_type": "stream",
     "text": [
      "enter the range:5\n",
      "the numbers in reverse is: (5, 4, 3, 2, 1)\n",
      "the sum of the reversed numbers: 15\n"
     ]
    }
   ],
   "source": [
    "#print all in reverse order and calculate their sum\n",
    "number=int(input(\"enter the range:\"))\n",
    "a=(tuple(range(number,0,-1)))\n",
    "print(\"the numbers in reverse is:\",a)\n",
    "s=sum(a)\n",
    "print(\"the sum of the reversed numbers:\",s)"
   ]
  },
  {
   "cell_type": "code",
   "execution_count": 2,
   "id": "e3f44a44",
   "metadata": {},
   "outputs": [
    {
     "name": "stdout",
     "output_type": "stream",
     "text": [
      "even numbers upto 25: [0, 2, 4, 6, 8, 10, 12, 14, 16, 18, 20, 22, 24]\n",
      "The sum: 156\n"
     ]
    }
   ],
   "source": [
    "#to print all even numbers from 1 to 25 and calculate sum\n",
    "r=range(0,25,2)\n",
    "print(\"even numbers upto 25:\",list(r))\n",
    "sum=sum(r)\n",
    "print(\"The sum:\",sum)\n"
   ]
  },
  {
   "cell_type": "code",
   "execution_count": null,
   "id": "79c9e5f5",
   "metadata": {},
   "outputs": [],
   "source": []
  }
 ],
 "metadata": {
  "kernelspec": {
   "display_name": "Python 3 (ipykernel)",
   "language": "python",
   "name": "python3"
  },
  "language_info": {
   "codemirror_mode": {
    "name": "ipython",
    "version": 3
   },
   "file_extension": ".py",
   "mimetype": "text/x-python",
   "name": "python",
   "nbconvert_exporter": "python",
   "pygments_lexer": "ipython3",
   "version": "3.11.4"
  }
 },
 "nbformat": 4,
 "nbformat_minor": 5
}
