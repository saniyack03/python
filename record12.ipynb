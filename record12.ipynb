{
 "cells": [
  {
   "cell_type": "code",
   "execution_count": 6,
   "id": "476e12b2",
   "metadata": {},
   "outputs": [
    {
     "name": "stdout",
     "output_type": "stream",
     "text": [
      "Enter integer numbers:12,-9,-2,13,10,-54,23\n",
      "postive list: [12, 13, 10, 23]\n",
      "Enter the value of n:5\n",
      "square of first n terms: [1, 4, 9, 16, 25]\n",
      "Enter a word:program\n",
      "Vowels in word: ['o', 'a']\n",
      "Ordinal value: [112, 114, 111, 103, 114, 97, 109]\n"
     ]
    }
   ],
   "source": [
    "#list comprehension\n",
    "#postive list of numbers\n",
    "numbers=list(map(int,input(\"Enter integer numbers:\").split(\",\")))\n",
    "postive_list=[x for x in numbers if x>0]\n",
    "print(\"postive list:\",postive_list) \n",
    "\n",
    "#square of n numbers\n",
    "n=int(input(\"Enter the value of n:\"))\n",
    "square=[x**2 for x in range(1,n+1)]\n",
    "print(\"square of first n terms:\",square)\n",
    "\n",
    "#list of vowels\n",
    "word=input(\"Enter a word:\")\n",
    "vowels=[char for char in word if char in \"aeiou\"]\n",
    "print(\"Vowels in word:\",vowels)\n",
    "\n",
    "#ordinal value\n",
    "ordinal=[ord(char) for char in word]\n",
    "print(\"Ordinal value:\",ordinal)"
   ]
  },
  {
   "cell_type": "code",
   "execution_count": null,
   "id": "e53e5a70",
   "metadata": {},
   "outputs": [],
   "source": []
  }
 ],
 "metadata": {
  "kernelspec": {
   "display_name": "Python 3 (ipykernel)",
   "language": "python",
   "name": "python3"
  },
  "language_info": {
   "codemirror_mode": {
    "name": "ipython",
    "version": 3
   },
   "file_extension": ".py",
   "mimetype": "text/x-python",
   "name": "python",
   "nbconvert_exporter": "python",
   "pygments_lexer": "ipython3",
   "version": "3.11.4"
  }
 },
 "nbformat": 4,
 "nbformat_minor": 5
}
