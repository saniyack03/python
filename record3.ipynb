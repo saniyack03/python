{
 "cells": [
  {
   "cell_type": "code",
   "execution_count": 2,
   "id": "731e7778",
   "metadata": {},
   "outputs": [
    {
     "name": "stdout",
     "output_type": "stream",
     "text": [
      "Enter the first number:32\n",
      "Enter the second number:78\n",
      "Enter the third number:90\n",
      "Entered numbers: 32.0 78.0 90.0\n",
      "The biggest number is: 90.0\n"
     ]
    }
   ],
   "source": [
    "#write a progam  to find the biggest of three numbers\n",
    "#input three numbers\n",
    "num1=float(input(\"Enter the first number:\"))\n",
    "num2=float(input(\"Enter the second number:\"))\n",
    "num3=float(input(\"Enter the third number:\"))\n",
    "#display the number entered\n",
    "print(\"Entered numbers:\",num1,num2,num3)\n",
    "#use of max()\n",
    "biggest=max(num1,num2,num3)\n",
    "print(\"The biggest number is:\",biggest)"
   ]
  },
  {
   "cell_type": "code",
   "execution_count": null,
   "id": "fa9382c0",
   "metadata": {},
   "outputs": [],
   "source": []
  }
 ],
 "metadata": {
  "kernelspec": {
   "display_name": "Python 3 (ipykernel)",
   "language": "python",
   "name": "python3"
  },
  "language_info": {
   "codemirror_mode": {
    "name": "ipython",
    "version": 3
   },
   "file_extension": ".py",
   "mimetype": "text/x-python",
   "name": "python",
   "nbconvert_exporter": "python",
   "pygments_lexer": "ipython3",
   "version": "3.11.4"
  }
 },
 "nbformat": 4,
 "nbformat_minor": 5
}
