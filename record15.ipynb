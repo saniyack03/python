{
 "cells": [
  {
   "cell_type": "code",
   "execution_count": 12,
   "id": "0f43b863",
   "metadata": {},
   "outputs": [
    {
     "name": "stdout",
     "output_type": "stream",
     "text": [
      "enter the length of rectangle 1:2\n",
      "enter the breadth of rectangle 1:3\n",
      "enter the length of rectangle 2:4\n",
      "enter the breadth of rectangle 2:5\n",
      "Area of rectangle 1: 6.0\n",
      "Perimeter of rectangle 1: 10.0\n",
      "Area of rectangle 2: 20.0\n",
      "Perimeter of rectangle 2: 18.0\n",
      "Rectangle 2 is greater\n"
     ]
    }
   ],
   "source": [
    "class rectangle:\n",
    "    def rect(self,l,b):\n",
    "        self.l=l\n",
    "        self.b=b\n",
    "        \n",
    "    def area(self):\n",
    "        return self.l*self.b\n",
    "    def perimeter(self):\n",
    "        return 2 * (self.l + self.b)\n",
    "    def display(self):\n",
    "        print(\"Area of rectangle 1:\",r1.area())\n",
    "        print(\"Perimeter of rectangle 1:\",r1.perimeter())\n",
    "        print(\"Area of rectangle 2:\",r2.area())\n",
    "        print(\"Perimeter of rectangle 2:\",r2.perimeter())\n",
    "\n",
    "r1=rectangle()\n",
    "r2=rectangle()\n",
    "        \n",
    "l1=float(input(\"enter the length of rectangle 1:\"))\n",
    "b1=float(input(\"enter the breadth of rectangle 1:\"))\n",
    "l2=float(input(\"enter the length of rectangle 2:\"))\n",
    "b2=float(input(\"enter the breadth of rectangle 2:\"))\n",
    "\n",
    "r1.rect(l1,b1)\n",
    "r2.rect(l2,b2)\n",
    "r1.display()\n",
    "\n",
    "p=r1.area()\n",
    "q=r2.area()\n",
    "\n",
    "if(p>q):\n",
    "    print(\"Rectangle 1 is greater\")\n",
    "elif(p<q):\n",
    "    print(\"Rectangle 2 is greater\")\n",
    "else:\n",
    "    print(\"Rectangles are equal\")"
   ]
  },
  {
   "cell_type": "code",
   "execution_count": null,
   "id": "0745acab",
   "metadata": {},
   "outputs": [],
   "source": []
  }
 ],
 "metadata": {
  "kernelspec": {
   "display_name": "Python 3 (ipykernel)",
   "language": "python",
   "name": "python3"
  },
  "language_info": {
   "codemirror_mode": {
    "name": "ipython",
    "version": 3
   },
   "file_extension": ".py",
   "mimetype": "text/x-python",
   "name": "python",
   "nbconvert_exporter": "python",
   "pygments_lexer": "ipython3",
   "version": "3.11.4"
  }
 },
 "nbformat": 4,
 "nbformat_minor": 5
}
