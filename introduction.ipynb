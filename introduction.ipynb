{
 "cells": [
  {
   "cell_type": "code",
   "execution_count": 1,
   "id": "c25c2d07",
   "metadata": {},
   "outputs": [
    {
     "name": "stdout",
     "output_type": "stream",
     "text": [
      "good morning\n"
     ]
    }
   ],
   "source": [
    "print(\"good morning\")"
   ]
  },
  {
   "cell_type": "code",
   "execution_count": 3,
   "id": "7acf2540",
   "metadata": {},
   "outputs": [
    {
     "name": "stdout",
     "output_type": "stream",
     "text": [
      "Satheesh Nivas(H),\n",
      "Vengeri \n",
      "calicut \n",
      "Pincode-673010\n"
     ]
    }
   ],
   "source": [
    "print(\"Satheesh Nivas(H),\\nVengeri \\ncalicut \\nPincode-673010\")"
   ]
  },
  {
   "cell_type": "code",
   "execution_count": 5,
   "id": "bf0b013f",
   "metadata": {},
   "outputs": [
    {
     "name": "stdout",
     "output_type": "stream",
     "text": [
      "2.5\n"
     ]
    }
   ],
   "source": [
    "print(5/2)"
   ]
  },
  {
   "cell_type": "code",
   "execution_count": 6,
   "id": "b2219edd",
   "metadata": {},
   "outputs": [
    {
     "name": "stdout",
     "output_type": "stream",
     "text": [
      "2\n"
     ]
    }
   ],
   "source": [
    "print(5//2)"
   ]
  },
  {
   "cell_type": "code",
   "execution_count": 7,
   "id": "523fd59e",
   "metadata": {},
   "outputs": [
    {
     "name": "stdout",
     "output_type": "stream",
     "text": [
      "8\n"
     ]
    }
   ],
   "source": [
    "print(2*2*2)"
   ]
  },
  {
   "cell_type": "code",
   "execution_count": 8,
   "id": "34183aaf",
   "metadata": {},
   "outputs": [
    {
     "name": "stdout",
     "output_type": "stream",
     "text": [
      "8\n"
     ]
    }
   ],
   "source": [
    "print(2**3)"
   ]
  },
  {
   "cell_type": "code",
   "execution_count": 11,
   "id": "43dd29f4",
   "metadata": {},
   "outputs": [
    {
     "name": "stdout",
     "output_type": "stream",
     "text": [
      "mca student's \n"
     ]
    }
   ],
   "source": [
    "print(\"mca student's \")"
   ]
  },
  {
   "cell_type": "code",
   "execution_count": 13,
   "id": "a64cae36",
   "metadata": {},
   "outputs": [
    {
     "name": "stdout",
     "output_type": "stream",
     "text": [
      "mca \"students\"\n"
     ]
    }
   ],
   "source": [
    "print('mca \"students\"')"
   ]
  },
  {
   "cell_type": "code",
   "execution_count": 14,
   "id": "b9a974eb",
   "metadata": {},
   "outputs": [
    {
     "name": "stdout",
     "output_type": "stream",
     "text": [
      "arjun\n"
     ]
    }
   ],
   "source": [
    "n=\"arjun\"\n",
    "print(n)"
   ]
  },
  {
   "cell_type": "code",
   "execution_count": 15,
   "id": "37e26fef",
   "metadata": {},
   "outputs": [
    {
     "name": "stdout",
     "output_type": "stream",
     "text": [
      "name= arjun\n"
     ]
    }
   ],
   "source": [
    "n=\"arjun\"\n",
    "print(\"name=\",n)"
   ]
  },
  {
   "cell_type": "code",
   "execution_count": 30,
   "id": "21bf1a3e",
   "metadata": {},
   "outputs": [
    {
     "name": "stdout",
     "output_type": "stream",
     "text": [
      "name= rjun\n"
     ]
    }
   ],
   "source": [
    "n=\"arjun\"\n",
    "print(\"name=\",n[1:5])"
   ]
  },
  {
   "cell_type": "code",
   "execution_count": null,
   "id": "fe07b87a",
   "metadata": {},
   "outputs": [],
   "source": []
  }
 ],
 "metadata": {
  "kernelspec": {
   "display_name": "Python 3 (ipykernel)",
   "language": "python",
   "name": "python3"
  },
  "language_info": {
   "codemirror_mode": {
    "name": "ipython",
    "version": 3
   },
   "file_extension": ".py",
   "mimetype": "text/x-python",
   "name": "python",
   "nbconvert_exporter": "python",
   "pygments_lexer": "ipython3",
   "version": "3.11.4"
  }
 },
 "nbformat": 4,
 "nbformat_minor": 5
}
