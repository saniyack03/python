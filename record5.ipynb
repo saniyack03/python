{
 "cells": [
  {
   "cell_type": "code",
   "execution_count": 1,
   "id": "27924adc",
   "metadata": {},
   "outputs": [
    {
     "name": "stdout",
     "output_type": "stream",
     "text": [
      "enter some colors:red,white,black,purple,grey\n",
      "['red', 'white', 'black', 'purple', 'grey']\n",
      "the first color is: red\n",
      "the last color is: grey\n"
     ]
    }
   ],
   "source": [
    "#list of colors separated by coma\n",
    "color=input(\"enter some colors:\")\n",
    "c=color.split(\",\")\n",
    "print(c)\n",
    "print(\"the first color is:\",c[0])\n",
    "print(\"the last color is:\",c[-1])\n"
   ]
  },
  {
   "cell_type": "code",
   "execution_count": 2,
   "id": "010592a2",
   "metadata": {},
   "outputs": [
    {
     "name": "stdout",
     "output_type": "stream",
     "text": [
      "enter a file name:report.pdf\n",
      "extension: pdf\n"
     ]
    }
   ],
   "source": [
    "#accept a file name and print the extension of that\n",
    "file=input(\"enter a file name:\")\n",
    "new=file.split(\".\")\n",
    "print(\"extension:\",new[-1])"
   ]
  },
  {
   "cell_type": "code",
   "execution_count": 4,
   "id": "c5313053",
   "metadata": {},
   "outputs": [
    {
     "name": "stdout",
     "output_type": "stream",
     "text": [
      "enter the numbers separated by comas:1,5,8,2,5\n",
      "list: [1, 5, 8, 2, 5]\n",
      "the sum is: 21\n"
     ]
    }
   ],
   "source": [
    "#generate  a list anf find sum of all items\n",
    "num=input(\"enter the numbers separated by comas:\")\n",
    "n=list(map(int,num.split(\",\")))\n",
    "print(\"list:\",n)\n",
    "totalsum=sum(n)\n",
    "print(\"the sum is:\",totalsum)"
   ]
  },
  {
   "cell_type": "code",
   "execution_count": null,
   "id": "fdf3d935",
   "metadata": {},
   "outputs": [],
   "source": []
  }
 ],
 "metadata": {
  "kernelspec": {
   "display_name": "Python 3 (ipykernel)",
   "language": "python",
   "name": "python3"
  },
  "language_info": {
   "codemirror_mode": {
    "name": "ipython",
    "version": 3
   },
   "file_extension": ".py",
   "mimetype": "text/x-python",
   "name": "python",
   "nbconvert_exporter": "python",
   "pygments_lexer": "ipython3",
   "version": "3.11.4"
  }
 },
 "nbformat": 4,
 "nbformat_minor": 5
}
