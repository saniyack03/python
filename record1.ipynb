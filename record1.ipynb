{
 "cells": [
  {
   "cell_type": "code",
   "execution_count": 8,
   "id": "cb0eb73e",
   "metadata": {},
   "outputs": [
    {
     "name": "stdout",
     "output_type": "stream",
     "text": [
      "Enter a number:5\n",
      "5 + 55 + 555 : 615\n"
     ]
    }
   ],
   "source": [
    "#write a program that accepts an integer(n) and compute the value of n+nn+nnn\n",
    "n=int(input(\"Enter a number:\"))\n",
    "nn=int(n*10+n)\n",
    "nnn=int(nn*10+n)\n",
    "result=n+nn+nnn\n",
    "print(n, \"+\",nn,\"+\",nnn,\":\",result)\n"
   ]
  },
  {
   "cell_type": "code",
   "execution_count": 3,
   "id": "041b14c9",
   "metadata": {},
   "outputs": [
    {
     "name": "stdout",
     "output_type": "stream",
     "text": [
      "enter the radious:3\n",
      "area of circle is: 28.27\n"
     ]
    }
   ],
   "source": [
    "#input th radius of a circle and compute the area(import math)\n",
    "import math\n",
    "r=float(input(\"enter the radious:\"))\n",
    "area=math.pi*r*r\n",
    "print(\"area of circle is:\",round(area,2))"
   ]
  },
  {
   "cell_type": "code",
   "execution_count": null,
   "id": "37f60b01",
   "metadata": {},
   "outputs": [],
   "source": []
  },
  {
   "cell_type": "code",
   "execution_count": null,
   "id": "079b86b1",
   "metadata": {},
   "outputs": [],
   "source": []
  }
 ],
 "metadata": {
  "kernelspec": {
   "display_name": "Python 3 (ipykernel)",
   "language": "python",
   "name": "python3"
  },
  "language_info": {
   "codemirror_mode": {
    "name": "ipython",
    "version": 3
   },
   "file_extension": ".py",
   "mimetype": "text/x-python",
   "name": "python",
   "nbconvert_exporter": "python",
   "pygments_lexer": "ipython3",
   "version": "3.11.4"
  }
 },
 "nbformat": 4,
 "nbformat_minor": 5
}
