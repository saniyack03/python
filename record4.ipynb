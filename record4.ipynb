{
 "cells": [
  {
   "cell_type": "code",
   "execution_count": 22,
   "id": "24f5bb9b",
   "metadata": {},
   "outputs": [
    {
     "name": "stdout",
     "output_type": "stream",
     "text": [
      "enter a string:saniya\n",
      "Exchanged string: aaniys\n"
     ]
    }
   ],
   "source": [
    "#write a programto change a given string to a new string where the first and last chars have been exchanged\n",
    "s=input(\"enter a string:\")\n",
    "first=s[0]\n",
    "middle=s[1:-1]\n",
    "last=s[1]\n",
    "newstring=last+middle+first\n",
    "print(\"Exchanged string:\",newstring)\n"
   ]
  },
  {
   "cell_type": "code",
   "execution_count": 25,
   "id": "ad435075",
   "metadata": {},
   "outputs": [
    {
     "name": "stdout",
     "output_type": "stream",
     "text": [
      "enter a string:programming\n",
      "prng\n"
     ]
    }
   ],
   "source": [
    "#write a python program to get a string made of the first 2 and last 2 chars from a given string\n",
    "s=input(\"enter a string:\")\n",
    "first=s[0:2]\n",
    "last=s[-2:]\n",
    "newstring=first+last\n",
    "print(newstring)\n",
    "\n"
   ]
  },
  {
   "cell_type": "code",
   "execution_count": 3,
   "id": "90d8c2db",
   "metadata": {},
   "outputs": [
    {
     "name": "stdout",
     "output_type": "stream",
     "text": [
      "enter first string:mukkam \n",
      "enter second string:kallanthod\n",
      "the output is: kakkam  mullanthod\n"
     ]
    }
   ],
   "source": [
    "#write a program to get a single string from two given string,separated by a space and swap the first two characters of each string.\n",
    "str1=input(\"enter first string:\")\n",
    "str2=input(\"enter second string:\")\n",
    "new_str1=str2[0:2]+str1[2:]\n",
    "new_str2=str1[:2]+str2[2:]\n",
    "result=new_str1+\" \"+new_str2\n",
    "print(\"the output is:\",result)"
   ]
  },
  {
   "cell_type": "code",
   "execution_count": 5,
   "id": "b72b7884",
   "metadata": {},
   "outputs": [
    {
     "name": "stdout",
     "output_type": "stream",
     "text": [
      "enter a string:black blue\n",
      "converted string is: black $lue\n"
     ]
    }
   ],
   "source": [
    "#first character changed to $ in a string expect first char\n",
    "s=str(input(\"enter a string:\"))\n",
    "n=s[0]\n",
    "r=n+s[1:].replace(n,\"$\")\n",
    "print(\"converted string is:\",r)"
   ]
  },
  {
   "cell_type": "code",
   "execution_count": null,
   "id": "54d3661a",
   "metadata": {},
   "outputs": [],
   "source": []
  }
 ],
 "metadata": {
  "kernelspec": {
   "display_name": "Python 3 (ipykernel)",
   "language": "python",
   "name": "python3"
  },
  "language_info": {
   "codemirror_mode": {
    "name": "ipython",
    "version": 3
   },
   "file_extension": ".py",
   "mimetype": "text/x-python",
   "name": "python",
   "nbconvert_exporter": "python",
   "pygments_lexer": "ipython3",
   "version": "3.11.4"
  }
 },
 "nbformat": 4,
 "nbformat_minor": 5
}
