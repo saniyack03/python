{
 "cells": [
  {
   "cell_type": "code",
   "execution_count": 23,
   "id": "c46b01b2",
   "metadata": {},
   "outputs": [
    {
     "name": "stdout",
     "output_type": "stream",
     "text": [
      "Enter a line of text:hello world hello python world \n",
      "Occurence:\n",
      "python : 1\n",
      "hello : 2\n",
      "world : 2\n"
     ]
    }
   ],
   "source": [
    "#count the occurence of each word in a line of text.\n",
    "line=input(\"Enter a line of text:\").split()\n",
    "text=set(line)\n",
    "print(\"Occurence:\")\n",
    "for word in text:\n",
    "    count=line.count(word)\n",
    "    print(word, \":\",count)\n",
    "    \n"
   ]
  },
  {
   "cell_type": "code",
   "execution_count": 22,
   "id": "3857944c",
   "metadata": {},
   "outputs": [
    {
     "name": "stdout",
     "output_type": "stream",
     "text": [
      "Enter integers:12,40,230,13,124,35,190\n",
      "\n",
      "Above 100 change to over\n",
      "The result is: [12, 40, 'over', 13, 'over', 35, 'over']\n"
     ]
    }
   ],
   "source": [
    "#prompt user for a list of integers.forall values greater than 100 store \"over\" instead.\n",
    "nums=list(map(int,input(\"Enter integers:\").split(\",\")))\n",
    "print()\n",
    "result=[]\n",
    "for n in nums:\n",
    "    if n>100:\n",
    "        result.append(\"over\")\n",
    "    else:\n",
    "        result.append(n)\n",
    "print(\"Above 100 change to over\")\n",
    "print(\"The result is:\",result)"
   ]
  },
  {
   "cell_type": "code",
   "execution_count": 11,
   "id": "5874b727",
   "metadata": {},
   "outputs": [
    {
     "name": "stdout",
     "output_type": "stream",
     "text": [
      "Enter first names:saniya,gouri,aradhya,vintu,sunilkumar\n",
      "Total occurence of a: 6\n"
     ]
    }
   ],
   "source": [
    "#store a list of first names.count the occurences of \"a\" within the list.\n",
    "names=input(\"Enter first names:\").split(\",\")\n",
    "count=0\n",
    "for name in names:\n",
    "    b=name.lower()\n",
    "    count=count+b.count(\"a\")\n",
    "print(\"Total occurence of a:\",count)"
   ]
  },
  {
   "cell_type": "code",
   "execution_count": 28,
   "id": "2f9565d0",
   "metadata": {},
   "outputs": [
    {
     "name": "stdout",
     "output_type": "stream",
     "text": [
      "enter first number:4\n",
      "enter second number:2\n",
      "GCD is: 2\n"
     ]
    }
   ],
   "source": [
    "#find gcd of 2 numbers\n",
    "\n",
    "a=int(input(\"enter first number:\"))\n",
    "b=int(input(\"enter second number:\"))\n",
    "\n",
    "while b!=0:\n",
    "    a,b=b,a%b\n",
    "    \n",
    "print(\"GCD is:\",a)"
   ]
  },
  {
   "cell_type": "code",
   "execution_count": 15,
   "id": "5993d69a",
   "metadata": {},
   "outputs": [
    {
     "name": "stdout",
     "output_type": "stream",
     "text": [
      "enter some numbers:12,33,2,4,10,7\n",
      "the original list: [12, 33, 2, 4, 10, 7]\n",
      "the list without even numbers: [33, 7]\n"
     ]
    }
   ],
   "source": [
    "#from a list of integers,create a list removing even numbers\n",
    "list=list(map(int,input(\"enter some numbers:\").split(\",\")))\n",
    "print(\"the original list:\",list)\n",
    "result=[]\n",
    "for i in list:\n",
    "    if i % 2 !=0:\n",
    "       result.append(i)\n",
    "print(\"the list without even numbers:\",result)"
   ]
  },
  {
   "cell_type": "code",
   "execution_count": 17,
   "id": "7a70f950",
   "metadata": {},
   "outputs": [
    {
     "name": "stdout",
     "output_type": "stream",
     "text": [
      "Enter a number:5\n",
      "The factorial of 5 is: 120\n"
     ]
    }
   ],
   "source": [
    "#program to find the factorial of a number\n",
    "num=int(input(\"Enter a number:\"))\n",
    "fact=1\n",
    "for i in range(1,num+1):\n",
    "     fact=fact*i\n",
    "print(\"The factorial of\",num, \"is:\",fact)    "
   ]
  },
  {
   "cell_type": "code",
   "execution_count": 17,
   "id": "bf191084",
   "metadata": {},
   "outputs": [
    {
     "name": "stdout",
     "output_type": "stream",
     "text": [
      "enter a number:5\n",
      "The fibanocci series of 5 term is\n",
      "0,1,1,2,3,"
     ]
    }
   ],
   "source": [
    "#fibanocci series of n terms\n",
    "n=int(input(\"enter a number:\"))\n",
    "a,b=0,1\n",
    "print(\"The fibanocci series of\",n,\"term is\")\n",
    "for i in range(n):\n",
    "    print(a,end=\",\")\n",
    "    a,b=b,a+b"
   ]
  },
  {
   "cell_type": "code",
   "execution_count": 6,
   "id": "b98215ea",
   "metadata": {},
   "outputs": [
    {
     "name": "stdout",
     "output_type": "stream",
     "text": [
      "Enter numbers separated by comma:12,32,80,13,13\n",
      "list is: [12, 32, 80, 13, 13]\n",
      "Sum of all numbers: 150\n"
     ]
    }
   ],
   "source": [
    "#sum of number in a list\n",
    "number=list(map(int,input(\"Enter numbers separated by comma:\").split(\",\")))\n",
    "print(\"list is:\",number)\n",
    "total=0\n",
    "for num in number:\n",
    "    total=total+num\n",
    "print(\"Sum of all numbers:\",total)    "
   ]
  },
  {
   "cell_type": "code",
   "execution_count": 30,
   "id": "96af0b02",
   "metadata": {},
   "outputs": [
    {
     "name": "stdout",
     "output_type": "stream",
     "text": [
      "enter the start of the range(4-digit number):2000\n",
      "enter the end of the range(4-digit number):8000\n",
      "Four digits numbers with their digits are all even aand are perfect numbers: [4624, 6084, 6400]\n"
     ]
    }
   ],
   "source": [
    "#generate a list of four digit numbers in a given range with all their digits even and the number is a perfect square.\n",
    "import math\n",
    "start=int(input(\"enter the start of the range(4-digit number):\"))\n",
    "end=int(input(\"enter the end of the range(4-digit number):\"))\n",
    "result=[]\n",
    "\n",
    "for num in range(start,end+1):\n",
    "    if 1000<=num<=9999:\n",
    "        if all(int(d)%2==0 for d in str(num)):\n",
    "            root=int(math.sqrt(num))\n",
    "            if root * root ==num:\n",
    "                result.append(num)\n",
    " \n",
    "print(\"Four digits numbers with their digits are all even aand are perfect numbers:\",result)\n"
   ]
  },
  {
   "cell_type": "code",
   "execution_count": 14,
   "id": "ec2314d2",
   "metadata": {},
   "outputs": [
    {
     "name": "stdout",
     "output_type": "stream",
     "text": [
      "enter a text:hello python\n",
      "Character frequency:\n",
      "the count of the h is: 2\n",
      "the count of the e is: 1\n",
      "the count of the l is: 2\n",
      "the count of the o is: 2\n",
      "the count of the p is: 1\n",
      "the count of the y is: 1\n",
      "the count of the t is: 1\n",
      "the count of the n is: 1\n"
     ]
    }
   ],
   "source": [
    "#count the number of characters(character frequency)in a string\n",
    "text=input(\"enter a text:\")\n",
    "txt_space=text.replace(\" \",\"\")\n",
    "frequency={}\n",
    "\n",
    "for char in txt_space:\n",
    "    if char in frequency:\n",
    "        frequency[char]=frequency[char]+1\n",
    "    else:\n",
    "        frequency[char]=1\n",
    "        \n",
    "print(\"Character frequency:\")\n",
    "for char,count in frequency.items():\n",
    "    print(\"the count of the\",char,\"is:\",count)\n",
    "    \n"
   ]
  },
  {
   "cell_type": "code",
   "execution_count": 16,
   "id": "f39d5c80",
   "metadata": {},
   "outputs": [
    {
     "name": "stdout",
     "output_type": "stream",
     "text": [
      "Enter the number of steps:4\n",
      "1 \n",
      "2 4 \n",
      "3 6 9 \n",
      "4 8 12 16 \n"
     ]
    }
   ],
   "source": [
    "#diplay the pyramid with step number accepted from user\n",
    "step=int(input(\"Enter the number of steps:\"))\n",
    "\n",
    "for i in range(1,step+1):\n",
    "    for j in range(1,i+1):\n",
    "        print(i * j,end=\" \")\n",
    "    print()"
   ]
  },
  {
   "cell_type": "code",
   "execution_count": null,
   "id": "1bb199e0",
   "metadata": {},
   "outputs": [],
   "source": []
  }
 ],
 "metadata": {
  "kernelspec": {
   "display_name": "Python 3 (ipykernel)",
   "language": "python",
   "name": "python3"
  },
  "language_info": {
   "codemirror_mode": {
    "name": "ipython",
    "version": 3
   },
   "file_extension": ".py",
   "mimetype": "text/x-python",
   "name": "python",
   "nbconvert_exporter": "python",
   "pygments_lexer": "ipython3",
   "version": "3.11.4"
  }
 },
 "nbformat": 4,
 "nbformat_minor": 5
}
