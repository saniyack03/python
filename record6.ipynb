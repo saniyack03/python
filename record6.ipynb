{
 "cells": [
  {
   "cell_type": "code",
   "execution_count": 1,
   "id": "df563c6c",
   "metadata": {},
   "outputs": [
    {
     "name": "stdout",
     "output_type": "stream",
     "text": [
      "enter the number23 24 54 23 90 87 654 321 23\n",
      "original tuple: (23, 24, 54, 23, 90, 87, 654, 321, 23)\n",
      "3rd element: 54\n",
      "last 3rd element: 654\n"
     ]
    }
   ],
   "source": [
    "#to get the 3rd element and 3rd element from the last\n",
    "t=input(\"enter the number\")\n",
    "s=tuple(map(int, t.split()))\n",
    "print(\"original tuple:\",s)\n",
    "third_element=s[2]\n",
    "third_lastelement=s[-3]\n",
    "print(\"3rd element:\",third_element)\n",
    "print(\"last 3rd element:\",third_lastelement)"
   ]
  },
  {
   "cell_type": "code",
   "execution_count": 3,
   "id": "53540d1b",
   "metadata": {},
   "outputs": [
    {
     "name": "stdout",
     "output_type": "stream",
     "text": [
      "enter the number12 23 12 10 52\n",
      "original tuple: (12, 23, 12, 10, 52)\n",
      "average: 21.8\n"
     ]
    }
   ],
   "source": [
    "#average of all items in that tuple\n",
    "t=input(\"enter the number\")\n",
    "s=tuple(map(int, t.split()))\n",
    "print(\"original tuple:\",s)\n",
    "avg=sum(s)/len(s)\n",
    "print(\"average:\",avg)"
   ]
  },
  {
   "cell_type": "code",
   "execution_count": null,
   "id": "f2cacd37",
   "metadata": {},
   "outputs": [],
   "source": []
  }
 ],
 "metadata": {
  "kernelspec": {
   "display_name": "Python 3 (ipykernel)",
   "language": "python",
   "name": "python3"
  },
  "language_info": {
   "codemirror_mode": {
    "name": "ipython",
    "version": 3
   },
   "file_extension": ".py",
   "mimetype": "text/x-python",
   "name": "python",
   "nbconvert_exporter": "python",
   "pygments_lexer": "ipython3",
   "version": "3.11.4"
  }
 },
 "nbformat": 4,
 "nbformat_minor": 5
}
