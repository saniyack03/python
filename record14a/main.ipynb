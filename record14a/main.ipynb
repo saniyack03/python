{
 "cells": [
  {
   "cell_type": "code",
   "execution_count": 11,
   "id": "9878a5d8",
   "metadata": {},
   "outputs": [
    {
     "name": "stdout",
     "output_type": "stream",
     "text": [
      "1.Rectangle \n",
      "2.Circle \n",
      "3.Exit\n",
      "Enter your choice:1\n",
      "enter the length of rectangle:2\n",
      "enter the breadth of rectangle:1\n",
      "AREA: 2.0\n",
      "PERIMETER: 6.0\n",
      "1.Rectangle \n",
      "2.Circle \n",
      "3.Exit\n",
      "Enter your choice:2\n",
      "enter the radius of circle:3\n",
      "Area: 28.27\n",
      "Perimeter: 18.85\n",
      "1.Rectangle \n",
      "2.Circle \n",
      "3.Exit\n",
      "Enter your choice:3\n",
      "Exiting..,\n"
     ]
    }
   ],
   "source": [
    "import rectangle\n",
    "import circle\n",
    "while(1):\n",
    "    print(\"1.Rectangle \\n2.Circle \\n3.Exit\")\n",
    "    ch=int(input(\"Enter your choice:\"))\n",
    "    if ch==1:\n",
    "        l=float(input(\"enter the length of rectangle:\"))\n",
    "        b=float(input(\"enter the breadth of rectangle:\"))\n",
    "        print(\"AREA:\",round(rectangle.area(l,b),2))\n",
    "        print(\"PERIMETER:\",round(rectangle.perimeter(l,b),2))\n",
    "    elif ch==2:\n",
    "        r=float(input(\"enter the radius of circle:\"))\n",
    "        print(\"Area:\",round(circle.area(r),2))\n",
    "        print(\"Perimeter:\",round(circle.perimeter(r),2))\n",
    "    else:\n",
    "        print(\"Exiting..,\")\n",
    "        break"
   ]
  },
  {
   "cell_type": "code",
   "execution_count": null,
   "id": "1f1ca448",
   "metadata": {},
   "outputs": [],
   "source": []
  }
 ],
 "metadata": {
  "kernelspec": {
   "display_name": "Python 3 (ipykernel)",
   "language": "python",
   "name": "python3"
  },
  "language_info": {
   "codemirror_mode": {
    "name": "ipython",
    "version": 3
   },
   "file_extension": ".py",
   "mimetype": "text/x-python",
   "name": "python",
   "nbconvert_exporter": "python",
   "pygments_lexer": "ipython3",
   "version": "3.11.4"
  }
 },
 "nbformat": 4,
 "nbformat_minor": 5
}
