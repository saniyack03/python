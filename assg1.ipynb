{
 "cells": [
  {
   "cell_type": "code",
   "execution_count": 1,
   "id": "81f9f398",
   "metadata": {},
   "outputs": [
    {
     "name": "stdout",
     "output_type": "stream",
     "text": [
      "4.0\n"
     ]
    }
   ],
   "source": [
    "import math\n",
    "number=16\n",
    "result=math.sqrt(number)\n",
    "print(result)"
   ]
  },
  {
   "cell_type": "code",
   "execution_count": 2,
   "id": "7f42e71f",
   "metadata": {},
   "outputs": [
    {
     "name": "stdout",
     "output_type": "stream",
     "text": [
      "4.47213595499958\n"
     ]
    }
   ],
   "source": [
    "import math\n",
    "number=20\n",
    "result=math.sqrt(number)\n",
    "print(result)"
   ]
  },
  {
   "cell_type": "code",
   "execution_count": 3,
   "id": "834c9442",
   "metadata": {},
   "outputs": [
    {
     "name": "stdout",
     "output_type": "stream",
     "text": [
      "5\n",
      "4\n"
     ]
    }
   ],
   "source": [
    "import math\n",
    "num=4.7\n",
    "print(math.ceil(num))\n",
    "print(math.floor(num))"
   ]
  },
  {
   "cell_type": "code",
   "execution_count": 4,
   "id": "340fb8e9",
   "metadata": {},
   "outputs": [
    {
     "name": "stdout",
     "output_type": "stream",
     "text": [
      "Enter the length of the side of the square:5\n",
      "The area of the square is: 25.0\n"
     ]
    }
   ],
   "source": [
    "#area of a sqaure\n",
    "side=float(input(\"Enter the length of the side of the square:\"))\n",
    "area=side*side\n",
    "print(\"The area of the square is:\",area)"
   ]
  },
  {
   "cell_type": "code",
   "execution_count": 5,
   "id": "57cce905",
   "metadata": {},
   "outputs": [
    {
     "name": "stdout",
     "output_type": "stream",
     "text": [
      "Enter the base of the triangle:3\n",
      "Enter the height of the triangle:4\n",
      "The area of the right triangle is: 6.0\n"
     ]
    }
   ],
   "source": [
    "#area of right triangle\n",
    "base=float(input(\"Enter the base of the triangle:\"))\n",
    "height=float(input(\"Enter the height of the triangle:\"))\n",
    "area=0.5*base*height\n",
    "print(\"The area of the right triangle is:\",area)"
   ]
  },
  {
   "cell_type": "code",
   "execution_count": 6,
   "id": "9b596754",
   "metadata": {},
   "outputs": [
    {
     "name": "stdout",
     "output_type": "stream",
     "text": [
      "Enter your name:saniya\n",
      "Hello saniya!\n"
     ]
    }
   ],
   "source": [
    "#greet user\n",
    "name=input(\"Enter your name:\")\n",
    "print(\"Hello\",name + \"!\")"
   ]
  },
  {
   "cell_type": "code",
   "execution_count": 8,
   "id": "63158415",
   "metadata": {},
   "outputs": [
    {
     "name": "stdout",
     "output_type": "stream",
     "text": [
      "Enter a number:3\n",
      "previous number: 2\n",
      "next number: 4\n"
     ]
    }
   ],
   "source": [
    "#previous and next number\n",
    "num=int(input(\"Enter a number:\"))\n",
    "print(\"previous number:\",num  -1)\n",
    "print(\"next number:\",num +1)"
   ]
  },
  {
   "cell_type": "code",
   "execution_count": 10,
   "id": "6e8be5de",
   "metadata": {},
   "outputs": [
    {
     "name": "stdout",
     "output_type": "stream",
     "text": [
      "Enter the principal amount:200000\n",
      "enter the rate of interest (in %):2\n",
      "Enter the time (in years):6\n",
      "The simple interest is: 24000.0\n"
     ]
    }
   ],
   "source": [
    "#simple interest\n",
    "principal=float(input(\"Enter the principal amount:\"))\n",
    "rate=float(input(\"enter the rate of interest (in %):\"))\n",
    "time=float(input(\"Enter the time (in years):\"))\n",
    "simple_interest=(principal*rate*time)/100\n",
    "print(\"The simple interest is:\",simple_interest)"
   ]
  },
  {
   "cell_type": "code",
   "execution_count": null,
   "id": "3e872d03",
   "metadata": {},
   "outputs": [],
   "source": []
  }
 ],
 "metadata": {
  "kernelspec": {
   "display_name": "Python 3 (ipykernel)",
   "language": "python",
   "name": "python3"
  },
  "language_info": {
   "codemirror_mode": {
    "name": "ipython",
    "version": 3
   },
   "file_extension": ".py",
   "mimetype": "text/x-python",
   "name": "python",
   "nbconvert_exporter": "python",
   "pygments_lexer": "ipython3",
   "version": "3.11.4"
  }
 },
 "nbformat": 4,
 "nbformat_minor": 5
}
