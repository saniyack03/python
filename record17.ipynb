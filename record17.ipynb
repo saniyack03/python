{
 "cells": [
  {
   "cell_type": "code",
   "execution_count": 6,
   "id": "ddf16c82",
   "metadata": {},
   "outputs": [
    {
     "name": "stdout",
     "output_type": "stream",
     "text": [
      "Enter publisher name:AM\n",
      "Enter book title:LEARNING\n",
      "Enter author name:MARK\n",
      "Enter price:899\n",
      "Enter number of pages:1542\n",
      "Publisher name: AM\n",
      "Book title: LEARNING\n",
      "Author name: MARK\n",
      "Book price: 899.0\n",
      "No of pages: 1542\n"
     ]
    }
   ],
   "source": [
    "class publisher:\n",
    "    def __init__(self,name):\n",
    "        self.name=name\n",
    "    def display(self):\n",
    "        print(\"Publisher name:\",self.name)\n",
    "        \n",
    "class book(publisher):\n",
    "    def __init__(self,name,title,author):\n",
    "        super().__init__(name)\n",
    "        self.title=title\n",
    "        self.author=author\n",
    "        \n",
    "    def display(self):\n",
    "        super().display()\n",
    "        print(\"Book title:\",self.title)\n",
    "        print(\"Author name:\",self.author)\n",
    "        \n",
    "class python(book):\n",
    "    def __init__(self,name,title,author,price,no_of_pages):\n",
    "        super().__init__(name,title,author)\n",
    "        self.price=price\n",
    "        self.no_of_pages=no_of_pages\n",
    "        \n",
    "    def display(self):\n",
    "        super().display()\n",
    "        print(\"Book price:\",self.price)\n",
    "        print(\"No of pages:\",self.no_of_pages)\n",
    "    \n",
    "name=input(\"Enter publisher name:\")\n",
    "title=input(\"Enter book title:\")\n",
    "author=input(\"Enter author name:\")\n",
    "price=float(input(\"Enter price:\"))\n",
    "no_of_pages=int(input(\"Enter number of pages:\"))\n",
    "\n",
    "b=python(name,title,author,price,no_of_pages)\n",
    "b.display()"
   ]
  },
  {
   "cell_type": "code",
   "execution_count": null,
   "id": "ce90e14f",
   "metadata": {},
   "outputs": [],
   "source": []
  }
 ],
 "metadata": {
  "kernelspec": {
   "display_name": "Python 3 (ipykernel)",
   "language": "python",
   "name": "python3"
  },
  "language_info": {
   "codemirror_mode": {
    "name": "ipython",
    "version": 3
   },
   "file_extension": ".py",
   "mimetype": "text/x-python",
   "name": "python",
   "nbconvert_exporter": "python",
   "pygments_lexer": "ipython3",
   "version": "3.11.4"
  }
 },
 "nbformat": 4,
 "nbformat_minor": 5
}
