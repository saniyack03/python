{
 "cells": [
  {
   "cell_type": "code",
   "execution_count": 10,
   "id": "90b2f37e",
   "metadata": {},
   "outputs": [
    {
     "name": "stdout",
     "output_type": "stream",
     "text": [
      "enter some words:apple,banana,grape\n",
      "the longest length of the word: 6\n"
     ]
    }
   ],
   "source": [
    "#accept a list of words and return length of longest word\n",
    "name=input(\"enter some words:\").split(\",\")\n",
    "names=list(name)\n",
    "def longest_length(names):\n",
    "    result=max(len(word) for word in names)\n",
    "    return result\n",
    "\n",
    "print(\"the longest length of the word:\",longest_length(names))\n",
    "        \n",
    "    "
   ]
  },
  {
   "cell_type": "code",
   "execution_count": 1,
   "id": "e0cab0a9",
   "metadata": {},
   "outputs": [
    {
     "name": "stdout",
     "output_type": "stream",
     "text": [
      "enter the number of star in the longest row:5\n",
      "* \n",
      "* * \n",
      "* * * \n",
      "* * * * \n",
      "* * * * * \n",
      "* * * * \n",
      "* * * \n",
      "* * \n",
      "* \n"
     ]
    }
   ],
   "source": [
    "#contruct the pattern using nested loop\n",
    "n=int(input(\"enter the number of star in the longest row:\"))\n",
    "def star(n):\n",
    "    for i in range(1,n+1):\n",
    "        for j in range(i):\n",
    "            print(\"*\",end=\" \")\n",
    "        print( )\n",
    "    for i in range(n-1,0,-1):\n",
    "        for j in range(i):\n",
    "            print(\"*\",end=\" \")\n",
    "        print( )\n",
    "star(n)"
   ]
  },
  {
   "cell_type": "code",
   "execution_count": 2,
   "id": "eec74805",
   "metadata": {},
   "outputs": [
    {
     "name": "stdout",
     "output_type": "stream",
     "text": [
      "Enter any number:4\n",
      "Factor of 4 are [1, 2, 4]\n"
     ]
    }
   ],
   "source": [
    "#generate all factors of a number\n",
    "num=int(input(\"Enter any number:\"))\n",
    "def factor(num):\n",
    "    return [i for i in range(1,num+1) if num%i == 0]\n",
    "print(\"Factor of\",num,\"are\",factor(num))"
   ]
  },
  {
   "cell_type": "code",
   "execution_count": 2,
   "id": "e8486200",
   "metadata": {},
   "outputs": [
    {
     "name": "stdout",
     "output_type": "stream",
     "text": [
      "Enter the side if the sqaure:2\n",
      "Area of the square is: 4.0\n",
      "enter the length if the rectangle:2\n",
      "enter the width if the rectangle:3\n",
      "Area of the rectangle is: 6.0\n",
      "Enter the base of the triangle:4\n",
      "Enter the height of the triangle:2\n",
      "Area of the triangle is: 4.0\n"
     ]
    }
   ],
   "source": [
    "#write lambda functions to find area of square,rectangle and triangle\n",
    "\n",
    "square=lambda s:s*s\n",
    "rectangle=lambda l,w:l*w\n",
    "triangle=lambda b,h:0.5*b*h\n",
    "\n",
    "s=float(input(\"Enter the side if the sqaure:\"))\n",
    "print(\"Area of the square is:\",square(s))\n",
    " \n",
    "l=float(input(\"enter the length if the rectangle:\"))\n",
    "w=float(input(\"enter the width if the rectangle:\"))\n",
    "print(\"Area of the rectangle is:\",rectangle(l,w))\n",
    "\n",
    "b=float(input(\"Enter the base of the triangle:\"))\n",
    "h=float(input(\"Enter the height of the triangle:\"))\n",
    "print(\"Area of the triangle is:\",triangle(b,h))   "
   ]
  },
  {
   "cell_type": "code",
   "execution_count": null,
   "id": "0aaec7f6",
   "metadata": {},
   "outputs": [],
   "source": []
  }
 ],
 "metadata": {
  "kernelspec": {
   "display_name": "Python 3 (ipykernel)",
   "language": "python",
   "name": "python3"
  },
  "language_info": {
   "codemirror_mode": {
    "name": "ipython",
    "version": 3
   },
   "file_extension": ".py",
   "mimetype": "text/x-python",
   "name": "python",
   "nbconvert_exporter": "python",
   "pygments_lexer": "ipython3",
   "version": "3.11.4"
  }
 },
 "nbformat": 4,
 "nbformat_minor": 5
}
