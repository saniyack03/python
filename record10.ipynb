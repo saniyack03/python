{
 "cells": [
  {
   "cell_type": "code",
   "execution_count": 10,
   "id": "7437c3fb",
   "metadata": {},
   "outputs": [
    {
     "name": "stdout",
     "output_type": "stream",
     "text": [
      "Enter integers for list1:1 2 3\n",
      "Enter integers for list2:2 3 4\n",
      "list 1: [1, 2, 3]\n",
      "list 2: [2, 3, 4]\n",
      "Both list are of same length\n",
      "List sums to different value\n",
      "Common values in both: {2, 3}\n"
     ]
    }
   ],
   "source": [
    "#prgrm to compare list\n",
    "a=list(map(int,input(\"Enter integers for list1:\").split()))\n",
    "b=list(map(int,input(\"Enter integers for list2:\").split()))\n",
    "print(\"list 1:\",a)\n",
    "print(\"list 2:\",b)\n",
    "\n",
    "if len(a)==len(b):\n",
    "      print(\"Both list are of same length\")\n",
    "else:\n",
    "      print(\"Both list are not of same length\")\n",
    "        \n",
    "if sum(a)==sum(b):\n",
    "    print(\"List sums to same value\")\n",
    "else:\n",
    "    print(\"List sums to different value\")\n",
    "    \n",
    "common_values= set(a) & set(b)    \n",
    "if common_values:\n",
    "    print(\"Common values in both:\",common_values)\n",
    "else:\n",
    "    print(\"No common value\")\n",
    "      "
   ]
  },
  {
   "cell_type": "code",
   "execution_count": 8,
   "id": "50456577",
   "metadata": {},
   "outputs": [
    {
     "name": "stdout",
     "output_type": "stream",
     "text": [
      "Enter a word:play\n",
      "The result is: playing\n"
     ]
    }
   ],
   "source": [
    "#adding \"ing\" at end and replacing \"ing\" to \"ly\" if it already exits\n",
    "word=input(\"Enter a word:\")\n",
    "if word.endswith(\"ing\"):\n",
    "    word=word+\"ly\"\n",
    "else:\n",
    "    word=word+\"ing\"\n",
    "print(\"The result is:\",word)"
   ]
  },
  {
   "cell_type": "code",
   "execution_count": null,
   "id": "60195442",
   "metadata": {},
   "outputs": [],
   "source": []
  },
  {
   "cell_type": "code",
   "execution_count": null,
   "id": "97c69b98",
   "metadata": {},
   "outputs": [],
   "source": []
  }
 ],
 "metadata": {
  "kernelspec": {
   "display_name": "Python 3 (ipykernel)",
   "language": "python",
   "name": "python3"
  },
  "language_info": {
   "codemirror_mode": {
    "name": "ipython",
    "version": 3
   },
   "file_extension": ".py",
   "mimetype": "text/x-python",
   "name": "python",
   "nbconvert_exporter": "python",
   "pygments_lexer": "ipython3",
   "version": "3.11.4"
  }
 },
 "nbformat": 4,
 "nbformat_minor": 5
}
