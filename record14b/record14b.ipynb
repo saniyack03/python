{
 "cells": [
  {
   "cell_type": "code",
   "execution_count": 1,
   "id": "82ef31c8",
   "metadata": {},
   "outputs": [
    {
     "name": "stdout",
     "output_type": "stream",
     "text": [
      "1.Rectangle \n",
      "2.Circle \n",
      "3.Cuboid \n",
      "4.Sphere\n",
      "Enter your choice:1\n",
      "Exiting..,\n"
     ]
    }
   ],
   "source": [
    "from graphics import rectangle\n",
    "from graphics import circle\n",
    "from graphics.graphics1 import cuboid\n",
    "from graphics.graphics1 import sphere\n",
    "\n",
    "while(1):\n",
    "    print(\"1.Rectangle \\n2.Circle \\n3.Cuboid \\n4.Sphere\")\n",
    "    ch=input(\"Enter your choice:\")\n",
    "    if ch==1:\n",
    "        l=float(input(\"enter the lenght of rectangle:\"))\n",
    "        b=float(input(\"enter the breadth of rectangle\"))\n",
    "        print(\"AREA:\",round(rectangle.rectarea(l,b),2))\n",
    "        print(\"PERIMETER:\",round(rectangle.rectperi(l,b),2))\n",
    "    elif ch==2:\n",
    "        r=float(input(\"enter the radius of circle:\"))\n",
    "        print(\"Area:\",round(circle.circlearea(r),2))\n",
    "        print(\"Perimeter:\",round(circle.circleperi(r),2))\n",
    "    elif ch==3:\n",
    "        l=float(input(\"enter the lenght of cuboid:\"))\n",
    "        b=float(input(\"enter the breadth of cuboid:\"))\n",
    "        h=float(input(\"enter the height of cuboid:\"))\n",
    "        print(\"Area:\",round(cuboid.cuboidarea(r),2))\n",
    "        print(\"Perimeter:\",round(cuboid.cuboidperi(r),2))\n",
    "    elif ch==4:\n",
    "        r=float(input(\"enter the radius of sphere:\"))\n",
    "        print(\"Area:\",round(sphere.sphereearea(r),2))\n",
    "        print(\"Perimeter:\",round(sphere.sphereperi(r),2))\n",
    "    else:\n",
    "        print(\"Exiting..,\")\n",
    "        break"
   ]
  },
  {
   "cell_type": "code",
   "execution_count": null,
   "id": "549815d0",
   "metadata": {},
   "outputs": [],
   "source": []
  }
 ],
 "metadata": {
  "kernelspec": {
   "display_name": "Python 3 (ipykernel)",
   "language": "python",
   "name": "python3"
  },
  "language_info": {
   "codemirror_mode": {
    "name": "ipython",
    "version": 3
   },
   "file_extension": ".py",
   "mimetype": "text/x-python",
   "name": "python",
   "nbconvert_exporter": "python",
   "pygments_lexer": "ipython3",
   "version": "3.11.4"
  }
 },
 "nbformat": 4,
 "nbformat_minor": 5
}
