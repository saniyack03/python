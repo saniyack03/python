{
 "cells": [
  {
   "cell_type": "code",
   "execution_count": 4,
   "id": "eb51fa97",
   "metadata": {},
   "outputs": [
    {
     "name": "stdout",
     "output_type": "stream",
     "text": [
      "Enter the length of rectangle 1:12\n",
      "Enter the width of rectangle 1:3\n",
      "Enter the length of rectangle 2:4\n",
      "Enter the width of rectangle 2:5\n",
      "Area of rectangle1: 36\n",
      "Area of rectangle2: 20\n",
      "Rectangle 1 is greater\n"
     ]
    }
   ],
   "source": [
    "class rectangle:\n",
    "    def __init__(self,l,w):\n",
    "        self.l=l\n",
    "        self.w=w\n",
    "        self.area=l*w\n",
    "        \n",
    "        \n",
    "    def __lt__(self,other):\n",
    "        print(\"Area of rectangle1:\",self.area)\n",
    "        print(\"Area of rectangle2:\",other.area)\n",
    "        \n",
    "        \n",
    "        if self.area<other.area:\n",
    "            print(\"Rectangle 2 is greater\")\n",
    "        else:\n",
    "            print(\"Rectangle 1 is greater\")\n",
    "            \n",
    "l1=int(input(\"Enter the length of rectangle 1:\"))\n",
    "w1=int(input(\"Enter the width of rectangle 1:\"))\n",
    "l2=int(input(\"Enter the length of rectangle 2:\"))  \n",
    "w2=int(input(\"Enter the width of rectangle 2:\"))\n",
    "\n",
    "r1=rectangle(l1,w1)\n",
    "r2=rectangle(l2,w2)\n",
    "\n",
    "r1<r2"
   ]
  },
  {
   "cell_type": "code",
   "execution_count": 6,
   "id": "78e9e165",
   "metadata": {},
   "outputs": [
    {
     "name": "stdout",
     "output_type": "stream",
     "text": [
      "Enter hour1:4\n",
      "Enter minute1:54\n",
      "Enter second1:56\n",
      "Enter hour2:3\n",
      "Enter minute2:56\n",
      "Enter second2:45\n",
      "Added time:\n",
      "Hour: 8 Minute: 51 Second: 41\n"
     ]
    }
   ],
   "source": [
    "class time:\n",
    "    def __init__(self,hr,mn,sec):\n",
    "        self.hr=hr\n",
    "        self.mn=mn\n",
    "        self.sec=sec\n",
    "        \n",
    "    def __add__(self,other):\n",
    "        h=self.hr+other.hr\n",
    "        m=self.mn+other.mn\n",
    "        s=self.sec+other.sec\n",
    "        \n",
    "        if s>=60:\n",
    "            s=s%60\n",
    "            m=m+1\n",
    "            \n",
    "        if m>=60:\n",
    "            m=m%60\n",
    "            h=h+1\n",
    "            \n",
    "        print(\"Added time:\")\n",
    "        print(\"Hour:\",h,\"Minute:\",m,\"Second:\",s)\n",
    "        \n",
    "h1=int(input(\"Enter hour1:\"))\n",
    "m1=int(input(\"Enter minute1:\"))\n",
    "s1=int(input(\"Enter second1:\"))\n",
    "h2=int(input(\"Enter hour2:\"))\n",
    "m2=int(input(\"Enter minute2:\"))\n",
    "s2=int(input(\"Enter second2:\"))\n",
    "                                \n",
    "t1=time(h1,m1,s1)\n",
    "t2=time(h2,m2,s2)\n",
    "\n",
    "t1+t2"
   ]
  },
  {
   "cell_type": "code",
   "execution_count": null,
   "id": "3d89e1d7",
   "metadata": {},
   "outputs": [],
   "source": []
  }
 ],
 "metadata": {
  "kernelspec": {
   "display_name": "Python 3 (ipykernel)",
   "language": "python",
   "name": "python3"
  },
  "language_info": {
   "codemirror_mode": {
    "name": "ipython",
    "version": 3
   },
   "file_extension": ".py",
   "mimetype": "text/x-python",
   "name": "python",
   "nbconvert_exporter": "python",
   "pygments_lexer": "ipython3",
   "version": "3.11.4"
  }
 },
 "nbformat": 4,
 "nbformat_minor": 5
}
