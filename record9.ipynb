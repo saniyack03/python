{
 "cells": [
  {
   "cell_type": "code",
   "execution_count": 1,
   "id": "78182012",
   "metadata": {},
   "outputs": [
    {
     "name": "stdout",
     "output_type": "stream",
     "text": [
      "enter 5 rollnos separated by spaces:1 5 2 4 3\n",
      "enter 5 names separated by spaces:gia gouri lechu aradhya lxmi\n",
      "original dictionary: {1: 'gia', 5: 'gouri', 2: 'lechu', 4: 'aradhya', 3: 'lxmi'}\n",
      "Ascending order of rollno: {1: 'gia', 2: 'lechu', 3: 'lxmi', 4: 'aradhya', 5: 'gouri'}\n",
      "DEscending order of rollno: {5: 'gouri', 4: 'aradhya', 3: 'lxmi', 2: 'lechu', 1: 'gia'}\n"
     ]
    }
   ],
   "source": [
    "#progrm to accept 5 students name and roll numbers\n",
    "roll=list(map(int,input(\"enter 5 rollnos separated by spaces:\").split()))\n",
    "name=list(input(\"enter 5 names separated by spaces:\").split())\n",
    "student_dict=dict(zip(roll,name))\n",
    "print(\"original dictionary:\",student_dict)\n",
    "asc_sorted=dict(sorted(student_dict.items()))\n",
    "print(\"Ascending order of rollno:\",asc_sorted)\n",
    "des_sorted=dict(sorted(student_dict.items(),reverse=True))\n",
    "print(\"DEscending order of rollno:\",des_sorted)\n",
    "\n"
   ]
  },
  {
   "cell_type": "code",
   "execution_count": 2,
   "id": "9e151c76",
   "metadata": {},
   "outputs": [
    {
     "name": "stdout",
     "output_type": "stream",
     "text": [
      "enter 3 rollnos:1 2 3\n",
      "enter 3 students name:nayan motu bheem\n",
      "enter 2 rollnos:4 5\n",
      "enter 2 students name:chukki raju\n",
      "First dictionary is: {1: 'nayan', 2: 'motu', 3: 'bheem'}\n",
      "second dictionary is: {4: 'chukki', 5: 'raju'}\n",
      "Merged dictionary: {1: 'nayan', 2: 'motu', 3: 'bheem', 4: 'chukki', 5: 'raju'}\n"
     ]
    }
   ],
   "source": [
    "#program to accept two dictionaries and merge 2 dictionaries and display it[use update()]\n",
    "\n",
    "roll1=list(map(int,input(\"enter 3 rollnos:\").split()))\n",
    "name1=list(input(\"enter 3 students name:\").split())\n",
    "dict1=dict(zip(roll1,name1))\n",
    "roll2=list(map(int,input(\"enter 2 rollnos:\").split()))\n",
    "name2=list(input(\"enter 2 students name:\").split())\n",
    "dict2=dict(zip(roll2,name2))\n",
    "print(\"First dictionary is:\",dict1)\n",
    "print(\"second dictionary is:\",dict2)\n",
    "\n",
    "dict1.update(dict2)\n",
    "print(\"Merged dictionary:\",dict1)\n"
   ]
  },
  {
   "cell_type": "code",
   "execution_count": null,
   "id": "634b71ae",
   "metadata": {},
   "outputs": [],
   "source": []
  }
 ],
 "metadata": {
  "kernelspec": {
   "display_name": "Python 3 (ipykernel)",
   "language": "python",
   "name": "python3"
  },
  "language_info": {
   "codemirror_mode": {
    "name": "ipython",
    "version": 3
   },
   "file_extension": ".py",
   "mimetype": "text/x-python",
   "name": "python",
   "nbconvert_exporter": "python",
   "pygments_lexer": "ipython3",
   "version": "3.11.4"
  }
 },
 "nbformat": 4,
 "nbformat_minor": 5
}
