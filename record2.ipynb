
{
 "cells": [
  {
   "cell_type": "code",
   "execution_count": 2,
   "id": "cc3e67c7",
   "metadata": {},
   "outputs": [
    {
     "name": "stdout",
     "output_type": "stream",
     "text": [
      "Enter the temperature in celsius:32\n",
      "Temperature in fahrenhit: 89.6\n"
     ]
    }
   ],
   "source": [
    "#python prgrm to convert celsius to Fahrenhit(T(F)=T(C)*9/5+32)\n",
    "celsius=float(input(\"Enter the temperature in celsius:\"))\n",
    "fahrenhit=(celsius*9/5)+32\n",
    "print(\"Temperature in fahrenhit:\",fahrenhit)"
   ]
  },
  {
   "cell_type": "code",
   "execution_count": 3,
   "id": "60e99bf7",
   "metadata": {},
   "outputs": [
    {
     "name": "stdout",
     "output_type": "stream",
     "text": [
      "Enter the distance in kilometer:12\n",
      "Distance in miles: 7.45644\n"
     ]
    }
   ],
   "source": [
    "#python program to convert kilometers to miles(1 kilometer is eqaul to 0.62137 miles)\n",
    "kilometer=float(input(\"Enter the distance in kilometer:\"))\n",
    "miles=(kilometer*0.62137)\n",
    "print(\"Distance in miles:\",miles)"
   ]
  },
  {
   "cell_type": "code",
   "execution_count": null,
   "id": "53698977",
   "metadata": {},
   "outputs": [],
   "source": []
  }
 ],
 "metadata": {
  "kernelspec": {
   "display_name": "Python 3 (ipykernel)",
   "language": "python",
   "name": "python3"
  },
  "language_info": {
   "codemirror_mode": {
    "name": "ipython",
    "version": 3
   },
   "file_extension": ".py",
   "mimetype": "text/x-python",
   "name": "python",
   "nbconvert_exporter": "python",
   "pygments_lexer": "ipython3",
   "version": "3.11.4"
  }
 },
 "nbformat": 4,
 "nbformat_minor": 5
}
